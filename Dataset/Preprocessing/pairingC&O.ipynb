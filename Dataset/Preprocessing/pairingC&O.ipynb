{
 "cells": [
  {
   "cell_type": "code",
   "execution_count": 5,
   "id": "a07c32f4",
   "metadata": {},
   "outputs": [
    {
     "name": "stdout",
     "output_type": "stream",
     "text": [
      "Pairing completed. Output CSV saved to /Users/jadeja19/Documents/Hiwi iktd/data set/allgemein1-5/04pairedImages.csv\n"
     ]
    }
   ],
   "source": [
    "import os\n",
    "import pandas as pd\n",
    "\n",
    "# Define the paths to the original and corrected images\n",
    "originals_path = '/Users/jadeja19/Documents/Hiwi iktd/data set/allgemein1-5/04uncorrected'\n",
    "corrected_path = '/Users/jadeja19/Documents/Hiwi iktd/data set/allgemein1-5/04corrected'\n",
    "\n",
    "# List all files in the originals and corrected directories\n",
    "original_files = os.listdir(originals_path)\n",
    "corrected_files = os.listdir(corrected_path)\n",
    "\n",
    "# Sort the files to ensure matching is consistent\n",
    "original_files.sort()\n",
    "corrected_files.sort()\n",
    "\n",
    "# Assume files are named consistently to match pairs by index\n",
    "paired_images = []\n",
    "\n",
    "# Loop through the sorted lists and pair images by index\n",
    "for original_file, corrected_file in zip(original_files, corrected_files):\n",
    "    # Construct the full file path\n",
    "    original_full_path = os.path.join(originals_path, original_file)\n",
    "    corrected_full_path = os.path.join(corrected_path, corrected_file)\n",
    "    \n",
    "    # Add to our paired list, including the labels\n",
    "    paired_images.append({\n",
    "        'original_image': original_full_path,\n",
    "        'corrected_image': corrected_full_path,\n",
    "        'label': 1 if 'corrected' in corrected_file else 0  # label 1 if corrected, 0 otherwise\n",
    "    })\n",
    "\n",
    "# Create a DataFrame from our paired list\n",
    "df_pairs = pd.DataFrame(paired_images)\n",
    "\n",
    "# Save the DataFrame to a CSV file\n",
    "output_csv_path = '/Users/jadeja19/Documents/Hiwi iktd/data set/allgemein1-5/04pairedImages.csv'\n",
    "df_pairs.to_csv(output_csv_path, index=False)\n",
    "\n",
    "print(f'Pairing completed. Output CSV saved to {output_csv_path}')\n"
   ]
  },
  {
   "cell_type": "code",
   "execution_count": 1,
   "id": "2a896a3a",
   "metadata": {},
   "outputs": [
    {
     "name": "stdout",
     "output_type": "stream",
     "text": [
      "Pairing completed. Output CSV saved to /Users/jadeja19/Documents/Hiwi iktd/data set/allgemein1-5/05pairedImages.csv\n"
     ]
    }
   ],
   "source": [
    "import os\n",
    "import pandas as pd\n",
    "\n",
    "# Define the paths to the original and corrected images\n",
    "originals_path = '/Users/jadeja19/Documents/Hiwi iktd/data set/allgemein1-5/05uncorrected'\n",
    "corrected_path = '/Users/jadeja19/Documents/Hiwi iktd/data set/allgemein1-5/05corrected'\n",
    "\n",
    "# List all files in the originals and corrected directories\n",
    "original_files = os.listdir(originals_path)\n",
    "corrected_files = os.listdir(corrected_path)\n",
    "\n",
    "# Sort the files to ensure matching is consistent\n",
    "original_files.sort()\n",
    "corrected_files.sort()\n",
    "\n",
    "# Assume files are named consistently to match pairs by index\n",
    "paired_images = []\n",
    "\n",
    "# Loop through the sorted lists and pair images by index\n",
    "for original_file, corrected_file in zip(original_files, corrected_files):\n",
    "    # Construct the full file path\n",
    "    original_full_path = os.path.join(originals_path, original_file)\n",
    "    corrected_full_path = os.path.join(corrected_path, corrected_file)\n",
    "    \n",
    "    # Add to our paired list, including the labels\n",
    "    paired_images.append({\n",
    "        'original_image': original_full_path,\n",
    "        'corrected_image': corrected_full_path,\n",
    "        'label': 1 if 'corrected' in corrected_file else 0  # label 1 if corrected, 0 otherwise\n",
    "    })\n",
    "\n",
    "# Create a DataFrame from our paired list\n",
    "df_pairs = pd.DataFrame(paired_images)\n",
    "\n",
    "# Save the DataFrame to a CSV file\n",
    "output_csv_path = '/Users/jadeja19/Documents/Hiwi iktd/data set/allgemein1-5/05pairedImages.csv'\n",
    "df_pairs.to_csv(output_csv_path, index=False)\n",
    "\n",
    "print(f'Pairing completed. Output CSV saved to {output_csv_path}')\n"
   ]
  },
  {
   "cell_type": "code",
   "execution_count": 3,
   "id": "19fd85b6",
   "metadata": {},
   "outputs": [
    {
     "name": "stdout",
     "output_type": "stream",
     "text": [
      "Pairing completed. Output CSV saved to /Users/jadeja19/Documents/Hiwi iktd/data set/allgemein1-5/03pairedImages.csv\n"
     ]
    }
   ],
   "source": [
    "import os\n",
    "import pandas as pd\n",
    "\n",
    "# Define the paths to the original and corrected images\n",
    "originals_path = '/Users/jadeja19/Documents/Hiwi iktd/data set/allgemein1-5/03uncorrected'\n",
    "corrected_path = '/Users/jadeja19/Documents/Hiwi iktd/data set/allgemein1-5/03corrected'\n",
    "\n",
    "# List all files in the originals and corrected directories\n",
    "original_files = os.listdir(originals_path)\n",
    "corrected_files = os.listdir(corrected_path)\n",
    "\n",
    "# Sort the files to ensure matching is consistent\n",
    "original_files.sort()\n",
    "corrected_files.sort()\n",
    "\n",
    "# Assume files are named consistently to match pairs by index\n",
    "paired_images = []\n",
    "\n",
    "# Loop through the sorted lists and pair images by index\n",
    "for original_file, corrected_file in zip(original_files, corrected_files):\n",
    "    # Construct the full file path\n",
    "    original_full_path = os.path.join(originals_path, original_file)\n",
    "    corrected_full_path = os.path.join(corrected_path, corrected_file)\n",
    "    \n",
    "    # Add to our paired list, including the labels\n",
    "    paired_images.append({\n",
    "        'original_image': original_full_path,\n",
    "        'corrected_image': corrected_full_path,\n",
    "        'label': 1 if 'corrected' in corrected_file else 0  # label 1 if corrected, 0 otherwise\n",
    "    })\n",
    "\n",
    "# Create a DataFrame from our paired list\n",
    "df_pairs = pd.DataFrame(paired_images)\n",
    "\n",
    "# Save the DataFrame to a CSV file\n",
    "output_csv_path = '/Users/jadeja19/Documents/Hiwi iktd/data set/allgemein1-5/03pairedImages.csv'\n",
    "df_pairs.to_csv(output_csv_path, index=False)\n",
    "\n",
    "print(f'Pairing completed. Output CSV saved to {output_csv_path}')\n"
   ]
  },
  {
   "cell_type": "code",
   "execution_count": 4,
   "id": "ad8cf868",
   "metadata": {},
   "outputs": [
    {
     "name": "stdout",
     "output_type": "stream",
     "text": [
      "Pairing completed. Output CSV saved to /Users/jadeja19/Documents/Hiwi iktd/data set/allgemein1-5/02pairedImages.csv\n"
     ]
    }
   ],
   "source": [
    "import os\n",
    "import pandas as pd\n",
    "\n",
    "# Define the paths to the original and corrected images\n",
    "originals_path = '/Users/jadeja19/Documents/Hiwi iktd/data set/allgemein1-5/02uncorrected'\n",
    "corrected_path = '/Users/jadeja19/Documents/Hiwi iktd/data set/allgemein1-5/02corrected'\n",
    "\n",
    "# List all files in the originals and corrected directories\n",
    "original_files = os.listdir(originals_path)\n",
    "corrected_files = os.listdir(corrected_path)\n",
    "\n",
    "# Sort the files to ensure matching is consistent\n",
    "original_files.sort()\n",
    "corrected_files.sort()\n",
    "\n",
    "# Assume files are named consistently to match pairs by index\n",
    "paired_images = []\n",
    "\n",
    "# Loop through the sorted lists and pair images by index\n",
    "for original_file, corrected_file in zip(original_files, corrected_files):\n",
    "    # Construct the full file path\n",
    "    original_full_path = os.path.join(originals_path, original_file)\n",
    "    corrected_full_path = os.path.join(corrected_path, corrected_file)\n",
    "    \n",
    "    # Add to our paired list, including the labels\n",
    "    paired_images.append({\n",
    "        'original_image': original_full_path,\n",
    "        'corrected_image': corrected_full_path,\n",
    "        'label': 1 if 'corrected' in corrected_file else 0  # label 1 if corrected, 0 otherwise\n",
    "    })\n",
    "\n",
    "# Create a DataFrame from our paired list\n",
    "df_pairs = pd.DataFrame(paired_images)\n",
    "\n",
    "# Save the DataFrame to a CSV file\n",
    "output_csv_path = '/Users/jadeja19/Documents/Hiwi iktd/data set/allgemein1-5/02pairedImages.csv'\n",
    "df_pairs.to_csv(output_csv_path, index=False)\n",
    "\n",
    "print(f'Pairing completed. Output CSV saved to {output_csv_path}')\n"
   ]
  },
  {
   "cell_type": "code",
   "execution_count": 5,
   "id": "98bec322",
   "metadata": {},
   "outputs": [
    {
     "name": "stdout",
     "output_type": "stream",
     "text": [
      "Pairing completed. Output CSV saved to /Users/jadeja19/Documents/Hiwi iktd/data set/allgemein1-5/01pairedImages.csv\n"
     ]
    }
   ],
   "source": [
    "import os\n",
    "import pandas as pd\n",
    "\n",
    "# Define the paths to the original and corrected images\n",
    "originals_path = '/Users/jadeja19/Documents/Hiwi iktd/data set/allgemein1-5/01Schraubedrawuncorrected'\n",
    "corrected_path = '/Users/jadeja19/Documents/Hiwi iktd/data set/allgemein1-5/01Schraubedrawcorrected'\n",
    "\n",
    "# List all files in the originals and corrected directories\n",
    "original_files = os.listdir(originals_path)\n",
    "corrected_files = os.listdir(corrected_path)\n",
    "\n",
    "# Sort the files to ensure matching is consistent\n",
    "original_files.sort()\n",
    "corrected_files.sort()\n",
    "\n",
    "# Assume files are named consistently to match pairs by index\n",
    "paired_images = []\n",
    "\n",
    "# Loop through the sorted lists and pair images by index\n",
    "for original_file, corrected_file in zip(original_files, corrected_files):\n",
    "    # Construct the full file path\n",
    "    original_full_path = os.path.join(originals_path, original_file)\n",
    "    corrected_full_path = os.path.join(corrected_path, corrected_file)\n",
    "    \n",
    "    # Add to our paired list, including the labels\n",
    "    paired_images.append({\n",
    "        'original_image': original_full_path,\n",
    "        'corrected_image': corrected_full_path,\n",
    "        'label': 1 if 'corrected' in corrected_file else 0  # label 1 if corrected, 0 otherwise\n",
    "    })\n",
    "\n",
    "# Create a DataFrame from our paired list\n",
    "df_pairs = pd.DataFrame(paired_images)\n",
    "\n",
    "# Save the DataFrame to a CSV file\n",
    "output_csv_path = '/Users/jadeja19/Documents/Hiwi iktd/data set/allgemein1-5/01pairedImages.csv'\n",
    "df_pairs.to_csv(output_csv_path, index=False)\n",
    "\n",
    "print(f'Pairing completed. Output CSV saved to {output_csv_path}')\n"
   ]
  },
  {
   "cell_type": "code",
   "execution_count": null,
   "id": "11110db0",
   "metadata": {},
   "outputs": [],
   "source": []
  }
 ],
 "metadata": {
  "kernelspec": {
   "display_name": "Python 3 (ipykernel)",
   "language": "python",
   "name": "python3"
  },
  "language_info": {
   "codemirror_mode": {
    "name": "ipython",
    "version": 3
   },
   "file_extension": ".py",
   "mimetype": "text/x-python",
   "name": "python",
   "nbconvert_exporter": "python",
   "pygments_lexer": "ipython3",
   "version": "3.9.13"
  }
 },
 "nbformat": 4,
 "nbformat_minor": 5
}
